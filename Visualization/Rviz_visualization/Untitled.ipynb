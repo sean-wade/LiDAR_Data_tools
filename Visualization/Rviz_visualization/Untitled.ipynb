{
 "cells": [
  {
   "cell_type": "code",
   "execution_count": 1,
   "id": "c91d6226-225e-4009-8b58-a06a8fcf2c64",
   "metadata": {},
   "outputs": [],
   "source": [
    "import numpy as np"
   ]
  },
  {
   "cell_type": "code",
   "execution_count": 3,
   "id": "d3eb8a5d-52eb-4e41-928e-ed9d574b8a9f",
   "metadata": {},
   "outputs": [],
   "source": [
    "a=np.array([\n",
    "    [000.485256, 0-0.874141, -0.0201178, 0008.64251],\n",
    "    [000.874163, 000.485515, -0.0107388, 00016.2088],\n",
    "    [00.0191329, -0.0123621, 000.995852, 000.847134],\n",
    "    [0000000000, 0000000000, 0000000000, 1],\n",
    "])"
   ]
  },
  {
   "cell_type": "code",
   "execution_count": 4,
   "id": "0e12219d-9ce2-4b62-80b9-8100f3945346",
   "metadata": {},
   "outputs": [],
   "source": [
    "aa=np.matrix(a)"
   ]
  },
  {
   "cell_type": "code",
   "execution_count": 5,
   "id": "ce268bb4-343e-44a7-a85f-a38cedc3ef1a",
   "metadata": {},
   "outputs": [
    {
     "data": {
      "text/plain": [
       "matrix([[ 4.85256e-01, -8.74141e-01, -2.01178e-02,  8.64251e+00],\n",
       "        [ 8.74163e-01,  4.85515e-01, -1.07388e-02,  1.62088e+01],\n",
       "        [ 1.91329e-02, -1.23621e-02,  9.95852e-01,  8.47134e-01],\n",
       "        [ 0.00000e+00,  0.00000e+00,  0.00000e+00,  1.00000e+00]])"
      ]
     },
     "execution_count": 5,
     "metadata": {},
     "output_type": "execute_result"
    }
   ],
   "source": [
    "aa"
   ]
  },
  {
   "cell_type": "code",
   "execution_count": 11,
   "id": "5a599913-c5b2-4bee-be9c-fe8978302712",
   "metadata": {},
   "outputs": [
    {
     "data": {
      "text/plain": [
       "matrix([[ 5.52359643],\n",
       "        [16.78504186],\n",
       "        [-0.56382453],\n",
       "        [ 1.        ]])"
      ]
     },
     "execution_count": 11,
     "metadata": {},
     "output_type": "execute_result"
    }
   ],
   "source": [
    "aa * np.array([-1.03687,3.02367,-1.35938,1]).reshape(4,1)"
   ]
  },
  {
   "cell_type": "code",
   "execution_count": null,
   "id": "7adad1b4-43ee-48ee-9700-d691c658dcc7",
   "metadata": {},
   "outputs": [],
   "source": [
    "5.52359,16.785,-0.56382"
   ]
  }
 ],
 "metadata": {
  "kernelspec": {
   "display_name": "Python 3",
   "language": "python",
   "name": "python3"
  },
  "language_info": {
   "codemirror_mode": {
    "name": "ipython",
    "version": 3
   },
   "file_extension": ".py",
   "mimetype": "text/x-python",
   "name": "python",
   "nbconvert_exporter": "python",
   "pygments_lexer": "ipython3",
   "version": "3.6.9"
  }
 },
 "nbformat": 4,
 "nbformat_minor": 5
}
